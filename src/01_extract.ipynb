{
 "cells": [
  {
   "cell_type": "code",
   "execution_count": 1,
   "metadata": {},
   "outputs": [],
   "source": [
    "import pdfplumber\n",
    "import csv"
   ]
  },
  {
   "cell_type": "code",
   "execution_count": 2,
   "metadata": {},
   "outputs": [],
   "source": [
    "pdf = pdfplumber.open(\"../data/FAIR_plan.pdf\")\n",
    "out = open('../data/extracted_raw.csv', 'w', newline='')\n",
    "writer = csv.writer(out)\n",
    "\n",
    "ts = {\n",
    "\"vertical_strategy\": \"text\",\n",
    "\"horizontal_strategy\": \"text\",\n",
    "\"snap_tolerance\":3\n",
    "}\n",
    "\n",
    "for page in pdf.pages:\n",
    "    ll = page.extract_table(ts)\n",
    "    writer.writerows(ll)\n",
    "\n",
    "out.close()\n"
   ]
  }
 ],
 "metadata": {
  "kernelspec": {
   "display_name": ".venv",
   "language": "python",
   "name": "python3"
  },
  "language_info": {
   "codemirror_mode": {
    "name": "ipython",
    "version": 3
   },
   "file_extension": ".py",
   "mimetype": "text/x-python",
   "name": "python",
   "nbconvert_exporter": "python",
   "pygments_lexer": "ipython3",
   "version": "3.13.1"
  }
 },
 "nbformat": 4,
 "nbformat_minor": 2
}
