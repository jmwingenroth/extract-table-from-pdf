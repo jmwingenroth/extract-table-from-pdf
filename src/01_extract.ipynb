{
 "cells": [
  {
   "cell_type": "code",
   "execution_count": 4,
   "metadata": {},
   "outputs": [],
   "source": [
    "import pdfplumber\n",
    "import csv"
   ]
  },
  {
   "cell_type": "code",
   "execution_count": 5,
   "metadata": {},
   "outputs": [],
   "source": [
    "def pdf_table_to_csv(in_path, out_path, ts):\n",
    "    pdf = pdfplumber.open(in_path)\n",
    "    csv_out = open(out_path, \"w\", newline = '')\n",
    "    writer = csv.writer(csv_out)\n",
    "    \n",
    "    for page in pdf.pages:\n",
    "        ll = page.extract_table(ts)\n",
    "        writer.writerows(ll)\n",
    "    \n",
    "    csv_out.close()\n"
   ]
  },
  {
   "cell_type": "code",
   "execution_count": 6,
   "metadata": {},
   "outputs": [],
   "source": [
    "ts = {\n",
    "\"vertical_strategy\": \"text\",\n",
    "\"horizontal_strategy\": \"text\",\n",
    "\"snap_tolerance\": 3\n",
    "}\n",
    "\n",
    "pdf_table_to_csv(\"../data/FAIR_exposure.pdf\", \"../data/extracted_exposure.csv\", ts)\n",
    "pdf_table_to_csv(\"../data/FAIR_number_of_policies.pdf\", \"../data/extracted_policies.csv\", ts)\n"
   ]
  }
 ],
 "metadata": {
  "kernelspec": {
   "display_name": ".venv",
   "language": "python",
   "name": "python3"
  },
  "language_info": {
   "codemirror_mode": {
    "name": "ipython",
    "version": 3
   },
   "file_extension": ".py",
   "mimetype": "text/x-python",
   "name": "python",
   "nbconvert_exporter": "python",
   "pygments_lexer": "ipython3",
   "version": "3.13.1"
  }
 },
 "nbformat": 4,
 "nbformat_minor": 2
}
